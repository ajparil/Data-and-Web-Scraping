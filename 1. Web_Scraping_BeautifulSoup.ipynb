{
 "cells": [
  {
   "cell_type": "markdown",
   "metadata": {
    "id": "x1TiMRv1unab"
   },
   "source": [
    "# Install the Following Packages :"
   ]
  },
  {
   "cell_type": "code",
   "execution_count": 1,
   "metadata": {
    "colab": {
     "base_uri": "https://localhost:8080/"
    },
    "id": "pj8_wwafsXNe",
    "outputId": "d5addac6-577b-438f-af8d-142579b02374"
   },
   "outputs": [
    {
     "name": "stdout",
     "output_type": "stream",
     "text": [
      "Requirement already satisfied: beautifulsoup4 in c:\\users\\user\\anaconda3\\lib\\site-packages (4.11.1)\n",
      "Requirement already satisfied: soupsieve>1.2 in c:\\users\\user\\anaconda3\\lib\\site-packages (from beautifulsoup4) (2.3.1)\n",
      "Requirement already satisfied: requests in c:\\users\\user\\anaconda3\\lib\\site-packages (2.27.1)\n",
      "Requirement already satisfied: urllib3<1.27,>=1.21.1 in c:\\users\\user\\anaconda3\\lib\\site-packages (from requests) (1.26.9)\n",
      "Requirement already satisfied: idna<4,>=2.5 in c:\\users\\user\\anaconda3\\lib\\site-packages (from requests) (3.3)\n",
      "Requirement already satisfied: charset-normalizer~=2.0.0 in c:\\users\\user\\anaconda3\\lib\\site-packages (from requests) (2.0.4)\n",
      "Requirement already satisfied: certifi>=2017.4.17 in c:\\users\\user\\anaconda3\\lib\\site-packages (from requests) (2021.10.8)\n",
      "Requirement already satisfied: pandas in c:\\users\\user\\anaconda3\\lib\\site-packages (1.4.2)\n",
      "Requirement already satisfied: numpy>=1.18.5 in c:\\users\\user\\anaconda3\\lib\\site-packages (from pandas) (1.21.5)\n",
      "Requirement already satisfied: python-dateutil>=2.8.1 in c:\\users\\user\\anaconda3\\lib\\site-packages (from pandas) (2.8.2)\n",
      "Requirement already satisfied: pytz>=2020.1 in c:\\users\\user\\anaconda3\\lib\\site-packages (from pandas) (2021.3)\n",
      "Requirement already satisfied: six>=1.5 in c:\\users\\user\\anaconda3\\lib\\site-packages (from python-dateutil>=2.8.1->pandas) (1.16.0)\n"
     ]
    }
   ],
   "source": [
    "!pip install beautifulsoup4\n",
    "!pip install requests\n",
    "!pip install pandas"
   ]
  },
  {
   "cell_type": "code",
   "execution_count": 2,
   "metadata": {
    "id": "HD4hSqzbshsz"
   },
   "outputs": [],
   "source": [
    "import requests\n",
    "from bs4 import BeautifulSoup\n",
    "import pandas as pd\n",
    "import csv"
   ]
  },
  {
   "cell_type": "markdown",
   "metadata": {
    "id": "uf-3h-7AuuTG"
   },
   "source": [
    "# Links to Webscrape"
   ]
  },
  {
   "cell_type": "code",
   "execution_count": 3,
   "metadata": {
    "id": "w_1Plf31s-7w"
   },
   "outputs": [],
   "source": [
    "links = [\n",
    "    'http://dnd5e.wikidot.com/spell:booming-blade',\n",
    "     'http://dnd5e.wikidot.com/spell:dancing-lights',\n",
    "     'http://dnd5e.wikidot.com/spell:eldritch-blast',\n",
    "     'http://dnd5e.wikidot.com/spell:fire-bolt',\n",
    "     'http://dnd5e.wikidot.com/spell:frostbite'\n",
    "]"
   ]
  },
  {
   "cell_type": "code",
   "execution_count": 4,
   "metadata": {
    "id": "sVXyHfJftSP6"
   },
   "outputs": [],
   "source": [
    "Dataframed = pd.DataFrame(columns = ['Spell_Name', 'School_of_Magic', 'Spell_Level', 'Source', 'Casting_Time', 'Range', 'Components', 'Duration', 'Description', 'At_Higher_Levels', 'URL'])"
   ]
  },
  {
   "cell_type": "code",
   "execution_count": 5,
   "metadata": {
    "id": "AKyh0pk4tX7b"
   },
   "outputs": [],
   "source": [
    "for x in range(0, len(links)):\n",
    "    Row = []; # Container of Webscraped Info\n",
    "    response = requests.get(links[x]) # Response 200 == OK\n",
    "    html_content = response.content\n",
    "    soup = BeautifulSoup(html_content, 'html.parser')\n",
    "\n",
    "    # Spell_Name\n",
    "    select_spell_name = soup.select('div[class*=\"page-title page-header\"] span') # Selects all Nested Span tags of the Div Tag with the class = \"page-title page-header\"\n",
    "    title = '\\n'.join(selected.text for selected in select_spell_name)\n",
    "    Row.append(title); # Spell_Name\n",
    "    Row.append('Evocation') # School_of_Magic\n",
    "    Row.append('Cantrip') # Spell_Level\n",
    "\n",
    "    select_source = soup.select('div[id*=\"page-content\"] p') # Selects all Nested p tags of the Div Tag with the id =\"page-content\"\n",
    "    source = \"\\n\".join(select_source[0].get_text(' ', strip=True)).replace(\"\\n\", \"\").lstrip('Source:')\n",
    "    Row.append(source) # Source\n",
    "\n",
    "    select_strong_text = soup.select('div[id*=\"page-content\"] p strong') # Selects all Nested Strong tags of the Nested p tags of the Div Tag with the id \"page-content\"\n",
    "    casting_time = \"\\n\".join(select_strong_text[0].next_sibling).replace(\"\\n\", \"\")\n",
    "    range_spell = \"\\n\".join(select_strong_text[1].next_sibling).replace(\"\\n\", \"\")\n",
    "    Components = \"\\n\".join(select_strong_text[2].next_sibling).replace(\"\\n\", \"\")\n",
    "    Duration = \"\\n\".join(select_strong_text[3].next_sibling).replace(\"\\n\", \"\")\n",
    "    Description = \"\\n\".join(select_source[3].get_text(' ', strip=True)).replace(\"\\n\", \"\")\n",
    "    At_Higher_Levels = \"\\n\".join(select_strong_text[4].next_sibling).replace(\"\\n\", \"\")\n",
    "    Row.append(casting_time) # Casting Time\n",
    "    Row.append(range_spell) # Range\n",
    "    Row.append(Components) # Components\n",
    "    Row.append(Duration) # Duration\n",
    "    Row.append(Description) # Duration\n",
    "    if At_Higher_Levels == \" \" : Row.append(\"N/A\") # At Higher Levels\n",
    "    else : Row.append(At_Higher_Levels) # At Higher Levels\n",
    "    Row.append(links[x]) # URL\n",
    "\n",
    "    # Append Row to Data\n",
    "    Dataframed.loc[len(Dataframed.index)] = Row"
   ]
  },
  {
   "cell_type": "code",
   "execution_count": 6,
   "metadata": {
    "colab": {
     "base_uri": "https://localhost:8080/",
     "height": 449
    },
    "id": "hwCpYWyEuLXc",
    "outputId": "7daabb1d-74b8-4cc7-8e3f-6ee860f127b1"
   },
   "outputs": [
    {
     "data": {
      "text/html": [
       "<div>\n",
       "<style scoped>\n",
       "    .dataframe tbody tr th:only-of-type {\n",
       "        vertical-align: middle;\n",
       "    }\n",
       "\n",
       "    .dataframe tbody tr th {\n",
       "        vertical-align: top;\n",
       "    }\n",
       "\n",
       "    .dataframe thead th {\n",
       "        text-align: right;\n",
       "    }\n",
       "</style>\n",
       "<table border=\"1\" class=\"dataframe\">\n",
       "  <thead>\n",
       "    <tr style=\"text-align: right;\">\n",
       "      <th></th>\n",
       "      <th>Spell_Name</th>\n",
       "      <th>School_of_Magic</th>\n",
       "      <th>Spell_Level</th>\n",
       "      <th>Source</th>\n",
       "      <th>Casting_Time</th>\n",
       "      <th>Range</th>\n",
       "      <th>Components</th>\n",
       "      <th>Duration</th>\n",
       "      <th>Description</th>\n",
       "      <th>At_Higher_Levels</th>\n",
       "      <th>URL</th>\n",
       "    </tr>\n",
       "  </thead>\n",
       "  <tbody>\n",
       "    <tr>\n",
       "      <th>0</th>\n",
       "      <td>Booming Blade</td>\n",
       "      <td>Evocation</td>\n",
       "      <td>Cantrip</td>\n",
       "      <td>Tasha's Cauldron of Everything</td>\n",
       "      <td>1 action</td>\n",
       "      <td>Self (5-foot radius)</td>\n",
       "      <td>S, M (a melee weapon worth at least 1 sp)</td>\n",
       "      <td>1 round</td>\n",
       "      <td>You brandish the weapon used in the spell’s ca...</td>\n",
       "      <td>At 5th level, the melee attack deals an extra...</td>\n",
       "      <td>http://dnd5e.wikidot.com/spell:booming-blade</td>\n",
       "    </tr>\n",
       "    <tr>\n",
       "      <th>1</th>\n",
       "      <td>Dancing Lights</td>\n",
       "      <td>Evocation</td>\n",
       "      <td>Cantrip</td>\n",
       "      <td>Player's Handbook</td>\n",
       "      <td>1 action</td>\n",
       "      <td>120 feet</td>\n",
       "      <td>V, S, M (a bit of phosphorus or wychwood, or ...</td>\n",
       "      <td>Concentration, up to 1 minute</td>\n",
       "      <td>You create up to four torch-sized lights withi...</td>\n",
       "      <td>N/A</td>\n",
       "      <td>http://dnd5e.wikidot.com/spell:dancing-lights</td>\n",
       "    </tr>\n",
       "    <tr>\n",
       "      <th>2</th>\n",
       "      <td>Eldritch Blast</td>\n",
       "      <td>Evocation</td>\n",
       "      <td>Cantrip</td>\n",
       "      <td>Player's Handbook</td>\n",
       "      <td>1 action</td>\n",
       "      <td>120 feet</td>\n",
       "      <td>V, S</td>\n",
       "      <td>Instantaneous</td>\n",
       "      <td>A beam of crackling energy streaks toward a cr...</td>\n",
       "      <td>The spell creates more than one beam when you...</td>\n",
       "      <td>http://dnd5e.wikidot.com/spell:eldritch-blast</td>\n",
       "    </tr>\n",
       "    <tr>\n",
       "      <th>3</th>\n",
       "      <td>Fire Bolt</td>\n",
       "      <td>Evocation</td>\n",
       "      <td>Cantrip</td>\n",
       "      <td>Player's Handbook</td>\n",
       "      <td>1 action</td>\n",
       "      <td>120 feet</td>\n",
       "      <td>V, S</td>\n",
       "      <td>Instantaneous</td>\n",
       "      <td>You hurl a mote of fire at a creature or objec...</td>\n",
       "      <td>This spell’s damage increases by 1d10 when yo...</td>\n",
       "      <td>http://dnd5e.wikidot.com/spell:fire-bolt</td>\n",
       "    </tr>\n",
       "    <tr>\n",
       "      <th>4</th>\n",
       "      <td>Frostbite</td>\n",
       "      <td>Evocation</td>\n",
       "      <td>Cantrip</td>\n",
       "      <td>Xanathar's Guide to Everything</td>\n",
       "      <td>1 action</td>\n",
       "      <td>60 feet</td>\n",
       "      <td>V, S</td>\n",
       "      <td>Instantaneous</td>\n",
       "      <td>You cause numbing frost to form on one creatur...</td>\n",
       "      <td>The spell’s damage increases by 1d6 when you ...</td>\n",
       "      <td>http://dnd5e.wikidot.com/spell:frostbite</td>\n",
       "    </tr>\n",
       "  </tbody>\n",
       "</table>\n",
       "</div>"
      ],
      "text/plain": [
       "       Spell_Name School_of_Magic Spell_Level  \\\n",
       "0   Booming Blade       Evocation     Cantrip   \n",
       "1  Dancing Lights       Evocation     Cantrip   \n",
       "2  Eldritch Blast       Evocation     Cantrip   \n",
       "3       Fire Bolt       Evocation     Cantrip   \n",
       "4       Frostbite       Evocation     Cantrip   \n",
       "\n",
       "                            Source Casting_Time                  Range  \\\n",
       "0   Tasha's Cauldron of Everything     1 action   Self (5-foot radius)   \n",
       "1                Player's Handbook     1 action               120 feet   \n",
       "2                Player's Handbook     1 action               120 feet   \n",
       "3                Player's Handbook     1 action               120 feet   \n",
       "4   Xanathar's Guide to Everything     1 action                60 feet   \n",
       "\n",
       "                                          Components  \\\n",
       "0          S, M (a melee weapon worth at least 1 sp)   \n",
       "1   V, S, M (a bit of phosphorus or wychwood, or ...   \n",
       "2                                               V, S   \n",
       "3                                               V, S   \n",
       "4                                               V, S   \n",
       "\n",
       "                         Duration  \\\n",
       "0                         1 round   \n",
       "1   Concentration, up to 1 minute   \n",
       "2                   Instantaneous   \n",
       "3                   Instantaneous   \n",
       "4                   Instantaneous   \n",
       "\n",
       "                                         Description  \\\n",
       "0  You brandish the weapon used in the spell’s ca...   \n",
       "1  You create up to four torch-sized lights withi...   \n",
       "2  A beam of crackling energy streaks toward a cr...   \n",
       "3  You hurl a mote of fire at a creature or objec...   \n",
       "4  You cause numbing frost to form on one creatur...   \n",
       "\n",
       "                                    At_Higher_Levels  \\\n",
       "0   At 5th level, the melee attack deals an extra...   \n",
       "1                                                N/A   \n",
       "2   The spell creates more than one beam when you...   \n",
       "3   This spell’s damage increases by 1d10 when yo...   \n",
       "4   The spell’s damage increases by 1d6 when you ...   \n",
       "\n",
       "                                             URL  \n",
       "0   http://dnd5e.wikidot.com/spell:booming-blade  \n",
       "1  http://dnd5e.wikidot.com/spell:dancing-lights  \n",
       "2  http://dnd5e.wikidot.com/spell:eldritch-blast  \n",
       "3       http://dnd5e.wikidot.com/spell:fire-bolt  \n",
       "4       http://dnd5e.wikidot.com/spell:frostbite  "
      ]
     },
     "execution_count": 6,
     "metadata": {},
     "output_type": "execute_result"
    }
   ],
   "source": [
    "Dataframed.head()"
   ]
  },
  {
   "cell_type": "markdown",
   "metadata": {
    "id": "N7heXvWD_kVU"
   },
   "source": [
    "# CSV Dataset"
   ]
  },
  {
   "cell_type": "code",
   "execution_count": 7,
   "metadata": {
    "id": "1KmJI6jk71H3"
   },
   "outputs": [],
   "source": [
    "Dataframed.to_csv(\"DND_Spells.csv\", index = False)"
   ]
  },
  {
   "cell_type": "markdown",
   "metadata": {
    "id": "gCIHeYmjBSCE"
   },
   "source": [
    "# Instruction Based Dataset\n",
    "\n",
    "- To create an instruction-based dataset from this CSV file, we will format the data into a structure suitable for training or using in applications like chatbots or virtual assistants.\n",
    "\n",
    "# Columns of Instruction Based Dataset\n",
    "- Instruction = The Question or Prompt\n",
    "- Output"
   ]
  },
  {
   "cell_type": "code",
   "execution_count": 8,
   "metadata": {
    "id": "8D_AT8uMDt_3"
   },
   "outputs": [],
   "source": [
    "Instructions = pd.DataFrame(columns = ['Instruction', 'Output'])"
   ]
  },
  {
   "cell_type": "markdown",
   "metadata": {
    "id": "cQTd8tcwB7d9"
   },
   "source": [
    "# Questions\n",
    "\n",
    "1. What is the casting time of the spell?\n",
    "2. What is the range of the spell?\n",
    "3. What is the duration of the spell?\n",
    "4. Describe the spell\n",
    "5.  What happens at higher levels for the spell?"
   ]
  },
  {
   "cell_type": "markdown",
   "metadata": {
    "id": "Y0lfU62PFoqu"
   },
   "source": [
    "# What is the casting time of the spell?"
   ]
  },
  {
   "cell_type": "code",
   "execution_count": 9,
   "metadata": {
    "id": "O-XHmMA2AlH8"
   },
   "outputs": [],
   "source": [
    "for index, row in Dataframed.iterrows():\n",
    "    instruction = \"What is the casting time of \" + row['Spell_Name'] + \"?\"\n",
    "    output = row['Casting_Time']\n",
    "    Instructions.loc[len(Instructions.index)] = [instruction, output]"
   ]
  },
  {
   "cell_type": "code",
   "execution_count": 10,
   "metadata": {
    "colab": {
     "base_uri": "https://localhost:8080/",
     "height": 206
    },
    "id": "e74JQtWbFKoX",
    "outputId": "9315e431-673d-48b2-be58-ad05fdc16671"
   },
   "outputs": [
    {
     "data": {
      "text/html": [
       "<div>\n",
       "<style scoped>\n",
       "    .dataframe tbody tr th:only-of-type {\n",
       "        vertical-align: middle;\n",
       "    }\n",
       "\n",
       "    .dataframe tbody tr th {\n",
       "        vertical-align: top;\n",
       "    }\n",
       "\n",
       "    .dataframe thead th {\n",
       "        text-align: right;\n",
       "    }\n",
       "</style>\n",
       "<table border=\"1\" class=\"dataframe\">\n",
       "  <thead>\n",
       "    <tr style=\"text-align: right;\">\n",
       "      <th></th>\n",
       "      <th>Instruction</th>\n",
       "      <th>Output</th>\n",
       "    </tr>\n",
       "  </thead>\n",
       "  <tbody>\n",
       "    <tr>\n",
       "      <th>0</th>\n",
       "      <td>What is the casting time of Booming Blade?</td>\n",
       "      <td>1 action</td>\n",
       "    </tr>\n",
       "    <tr>\n",
       "      <th>1</th>\n",
       "      <td>What is the casting time of Dancing Lights?</td>\n",
       "      <td>1 action</td>\n",
       "    </tr>\n",
       "    <tr>\n",
       "      <th>2</th>\n",
       "      <td>What is the casting time of Eldritch Blast?</td>\n",
       "      <td>1 action</td>\n",
       "    </tr>\n",
       "    <tr>\n",
       "      <th>3</th>\n",
       "      <td>What is the casting time of Fire Bolt?</td>\n",
       "      <td>1 action</td>\n",
       "    </tr>\n",
       "    <tr>\n",
       "      <th>4</th>\n",
       "      <td>What is the casting time of Frostbite?</td>\n",
       "      <td>1 action</td>\n",
       "    </tr>\n",
       "  </tbody>\n",
       "</table>\n",
       "</div>"
      ],
      "text/plain": [
       "                                   Instruction     Output\n",
       "0   What is the casting time of Booming Blade?   1 action\n",
       "1  What is the casting time of Dancing Lights?   1 action\n",
       "2  What is the casting time of Eldritch Blast?   1 action\n",
       "3       What is the casting time of Fire Bolt?   1 action\n",
       "4       What is the casting time of Frostbite?   1 action"
      ]
     },
     "execution_count": 10,
     "metadata": {},
     "output_type": "execute_result"
    }
   ],
   "source": [
    "Instructions.head()"
   ]
  },
  {
   "cell_type": "markdown",
   "metadata": {
    "id": "n5ZXYTHcFs-U"
   },
   "source": [
    "# What is the range of the spell?"
   ]
  },
  {
   "cell_type": "code",
   "execution_count": 11,
   "metadata": {
    "id": "zJskd69dFslv"
   },
   "outputs": [],
   "source": [
    "for index, row in Dataframed.iterrows():\n",
    "    instruction = \"What is the range of \" + row['Spell_Name'] + \"?\"\n",
    "    output = row['Range']\n",
    "    Instructions.loc[len(Instructions.index)] = [instruction, output]"
   ]
  },
  {
   "cell_type": "markdown",
   "metadata": {
    "id": "kpfwEQlOFv2g"
   },
   "source": [
    "# What is the duration of the spell?"
   ]
  },
  {
   "cell_type": "code",
   "execution_count": 12,
   "metadata": {
    "id": "lB_KWtrlFxZj"
   },
   "outputs": [],
   "source": [
    "for index, row in Dataframed.iterrows():\n",
    "    instruction = \"What is the duration of \" + row['Spell_Name'] + \"?\"\n",
    "    output = row['Duration']\n",
    "    Instructions.loc[len(Instructions.index)] = [instruction, output]"
   ]
  },
  {
   "cell_type": "markdown",
   "metadata": {
    "id": "NXMvBpGrFxs3"
   },
   "source": [
    "# Describe the spell"
   ]
  },
  {
   "cell_type": "code",
   "execution_count": 13,
   "metadata": {
    "id": "heEOvYgAF1j4"
   },
   "outputs": [],
   "source": [
    "for index, row in Dataframed.iterrows():\n",
    "    instruction = \"Describe the spell \" + row['Spell_Name'] + \"?\"\n",
    "    output = row['Description']\n",
    "    Instructions.loc[len(Instructions.index)] = [instruction, output]"
   ]
  },
  {
   "cell_type": "markdown",
   "metadata": {
    "id": "Au6nEuMZF17O"
   },
   "source": [
    "# What happens at higher levels for the spell?"
   ]
  },
  {
   "cell_type": "code",
   "execution_count": 14,
   "metadata": {
    "id": "PGqG94PJF4ez"
   },
   "outputs": [],
   "source": [
    "for index, row in Dataframed.iterrows():\n",
    "    instruction = \"What happens at higher levels for the spell \" + row['Spell_Name'] + \"?\"\n",
    "    output = row['At_Higher_Levels']\n",
    "    if output == \"N/A\" : output = \"This Spell cannot be casted in higher Levels.\"\n",
    "    Instructions.loc[len(Instructions.index)] = [instruction, output]"
   ]
  },
  {
   "cell_type": "code",
   "execution_count": 15,
   "metadata": {
    "id": "vZlO67eOHzwz"
   },
   "outputs": [],
   "source": [
    "Instructions.to_json('DND_Instructions.json', orient=\"records\")"
   ]
  },
  {
   "cell_type": "markdown",
   "metadata": {
    "id": "XIJED0xDKCtW"
   },
   "source": [
    "# Knowledge Based Dataset\n",
    "\n",
    "- A list of Facts that the Chatbot should know!\n",
    "\n",
    "# Format of Facts\n",
    "\n",
    "- The Casting Time of the Spell [Spell_Name] is [Casting_Time].\n",
    "- The Range of the Spell [Spell_Name] is [Range].\n",
    "- The Duration of the Spell [Spell_Name] is [Duration].\n",
    "- When you cast the spell [Spell_Name], [Description].\n",
    "- When you cast the spell [Spell_Name] at higher Levels, [At_Higher_Levels]"
   ]
  },
  {
   "cell_type": "code",
   "execution_count": 16,
   "metadata": {
    "id": "L2kIY5NtKB4s"
   },
   "outputs": [],
   "source": [
    "Knowledge = pd.DataFrame(columns = ['Fact', 'URL'])"
   ]
  },
  {
   "cell_type": "markdown",
   "metadata": {
    "id": "XKgTwXfLQidI"
   },
   "source": [
    "# The Casting Time of the Spell [Spell_Name] is [Casting_Time]."
   ]
  },
  {
   "cell_type": "code",
   "execution_count": 17,
   "metadata": {
    "id": "PDluVRecQcfZ"
   },
   "outputs": [],
   "source": [
    "for index, row in Dataframed.iterrows():\n",
    "    fact = \"The Casting Time of the Spell \" + row['Spell_Name'] + \" is\" + row['Casting_Time'] + \".\"\n",
    "    Knowledge.loc[len(Knowledge.index)] = [fact, row['URL']]"
   ]
  },
  {
   "cell_type": "markdown",
   "metadata": {
    "id": "wiH2VxCKRBQq"
   },
   "source": [
    "# The Range of the Spell [Spell_Name] is [Range]."
   ]
  },
  {
   "cell_type": "code",
   "execution_count": 18,
   "metadata": {
    "id": "_2kNw3QYQsaU"
   },
   "outputs": [],
   "source": [
    "for index, row in Dataframed.iterrows():\n",
    "    fact = \"The Range of the Spell \" + row['Spell_Name'] + \" is\" + row['Range'] + \".\"\n",
    "    Knowledge.loc[len(Knowledge.index)] = [fact, row['URL']]"
   ]
  },
  {
   "cell_type": "markdown",
   "metadata": {
    "id": "HzL8GGxeRQf-"
   },
   "source": [
    "# The Duration of the Spell [Spell_Name] is [Duration]."
   ]
  },
  {
   "cell_type": "code",
   "execution_count": 19,
   "metadata": {
    "id": "pv0qm44fRP8e"
   },
   "outputs": [],
   "source": [
    "for index, row in Dataframed.iterrows():\n",
    "    fact = \"The Duration of the Spell \" + row['Spell_Name'] + \" is\" + row['Duration'] + \".\"\n",
    "    Knowledge.loc[len(Knowledge.index)] = [fact, row['URL']]"
   ]
  },
  {
   "cell_type": "markdown",
   "metadata": {
    "id": "LmfGXQKGRxLP"
   },
   "source": [
    "# When you cast the spell [Spell_Name], [Description]."
   ]
  },
  {
   "cell_type": "code",
   "execution_count": 20,
   "metadata": {
    "id": "paRciR2rRjHL"
   },
   "outputs": [],
   "source": [
    "for index, row in Dataframed.iterrows():\n",
    "    fact = \"When you cast the Spell \" + row['Spell_Name'] + \",\" + row['Description']\n",
    "    Knowledge.loc[len(Knowledge.index)] = [fact, row['URL']]"
   ]
  },
  {
   "cell_type": "markdown",
   "metadata": {
    "id": "0E2tI3vwSIcj"
   },
   "source": [
    "# When you cast the spell [Spell_Name] at higher Levels, [At_Higher_Levels]."
   ]
  },
  {
   "cell_type": "code",
   "execution_count": 21,
   "metadata": {
    "id": "ebRYNZZVSH8Y"
   },
   "outputs": [],
   "source": [
    "for index, row in Dataframed.iterrows():\n",
    "    if row['At_Higher_Levels'] == \"N/A\" :\n",
    "      fact = \"You Cannot cast the Spell \" + row['Spell_Name'] + \" at higher Levels.\"\n",
    "    else :\n",
    "      fact = \"When you cast the Spell \" + row['Spell_Name'] + \" at higher levels,\" + row['At_Higher_Levels']\n",
    "    Knowledge.loc[len(Knowledge.index)] = [fact, row['URL']]"
   ]
  },
  {
   "cell_type": "code",
   "execution_count": 22,
   "metadata": {
    "id": "gWnGwdtKSqSy"
   },
   "outputs": [],
   "source": [
    "Knowledge.to_json('DND_Knowledge.json', orient=\"records\")"
   ]
  },
  {
   "cell_type": "code",
   "execution_count": null,
   "metadata": {},
   "outputs": [],
   "source": []
  }
 ],
 "metadata": {
  "colab": {
   "provenance": []
  },
  "kernelspec": {
   "display_name": "Python 3 (ipykernel)",
   "language": "python",
   "name": "python3"
  },
  "language_info": {
   "codemirror_mode": {
    "name": "ipython",
    "version": 3
   },
   "file_extension": ".py",
   "mimetype": "text/x-python",
   "name": "python",
   "nbconvert_exporter": "python",
   "pygments_lexer": "ipython3",
   "version": "3.9.12"
  }
 },
 "nbformat": 4,
 "nbformat_minor": 1
}
